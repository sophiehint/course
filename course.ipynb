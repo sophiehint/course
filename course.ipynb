{
 "cells": [
  {
   "cell_type": "code",
   "execution_count": 20,
   "metadata": {},
   "outputs": [
    {
     "name": "stdout",
     "output_type": "stream",
     "text": [
      "Annual total Cargo Capacity from AT to PL: 105000.0\n",
      "Annual scrap transportable from AT to PL: 140000.0\n",
      "Total scrap transport from AT to PL 2030 to 2050: 2800000.0\n",
      "if > 1 then we have not enough train cargo capacity to transport all the scrap from AT to PL; if < 1 we have enough: 1.3333333333333333\n"
     ]
    }
   ],
   "source": [
    "\n",
    "\n",
    "# Function 1: Train Cargo capacities from Austria (AT) to Poland (PL) per year\n",
    "european_train_routes = 35000  # Total number of train routes in Europe\n",
    "european_train_cargo_capacity_per_route = 300  # in tonnes (average capacity of each route)\n",
    "relative_share_AT_PL = 0.01 # AT to PL train routes relative to whole EU train routes\n",
    "\n",
    "def get_train_routes_and_capacities(european_train_routes, european_train_cargo_capacity_per_route, relative_share_AT_PL):\n",
    "    total_cargo_capacity_AT_to_PL = european_train_routes * european_train_cargo_capacity_per_route * relative_share_AT_PL\n",
    "    return total_cargo_capacity_AT_to_PL\n",
    "\n",
    "total_cargo_capacity_solution = get_train_routes_and_capacities(european_train_routes, european_train_cargo_capacity_per_route, relative_share_AT_PL)\n",
    "print(f\"Annual total Cargo Capacity from AT to PL: {total_cargo_capacity_solution}\")\n",
    "\n",
    "\n",
    "# Function 2: Calculate how much Photovoltaik module scrap could be transported per year from Austria to Poland\n",
    "photovoltaik_scrap_generated_annual_AT = 200000 # tonnes\n",
    "transport_factor = 0.7\n",
    "\n",
    "def calculate_photovoltaik_scrap_transport_per_year(photovoltaik_scrap_generated_annual_AT, transport_factor):\n",
    "    scrap_transportable_from_AT_to_PL = photovoltaik_scrap_generated_annual_AT * transport_factor\n",
    "    return scrap_transportable_from_AT_to_PL\n",
    "\n",
    "scrap_transportable_from_AT_to_PL_solution = calculate_photovoltaik_scrap_transport_per_year(photovoltaik_scrap_generated_annual_AT, transport_factor)\n",
    "print(f\"Annual scrap transportable from AT to PL: {scrap_transportable_from_AT_to_PL_solution}\")\n",
    "\n",
    "\n",
    "# Function 3: Calculate how much Photovoltaik module scrap could be transported between 2030 and 2050\n",
    "years = 20\n",
    "\n",
    "def calculate_photovoltaik_scrap_transport_2030_2050(scrap_transportable_from_AT_to_PL_solution, years):\n",
    "    total_scrap_transport = scrap_transportable_from_AT_to_PL_solution * years\n",
    "    return total_scrap_transport\n",
    "\n",
    "total_scrap_transport_solution = calculate_photovoltaik_scrap_transport_2030_2050(scrap_transportable_from_AT_to_PL_solution, years)\n",
    "print(f\"Total scrap transport from AT to PL 2030 to 2050: {total_scrap_transport_solution}\")\n",
    "\n",
    "# Function 4: To check if enough train cargo capacity for transportation exists\n",
    "def enough_train_cargo_capacity(scrap_transportable_from_AT_to_PL_solution, total_cargo_capacity_solution):\n",
    "    enough = scrap_transportable_from_AT_to_PL_solution / total_cargo_capacity_solution\n",
    "    return enough\n",
    "\n",
    "enough_solution = enough_train_cargo_capacity(140000, 105000)\n",
    "print(f\"if > 1 then we have not enough train cargo capacity to transport all the scrap from AT to PL; if < 1 we have enough: {enough_solution}\")\n",
    "\n"
   ]
  }
 ],
 "metadata": {
  "kernelspec": {
   "display_name": "base",
   "language": "python",
   "name": "python3"
  },
  "language_info": {
   "codemirror_mode": {
    "name": "ipython",
    "version": 3
   },
   "file_extension": ".py",
   "mimetype": "text/x-python",
   "name": "python",
   "nbconvert_exporter": "python",
   "pygments_lexer": "ipython3",
   "version": "3.9.13"
  }
 },
 "nbformat": 4,
 "nbformat_minor": 2
}
